{
 "cells": [
  {
   "cell_type": "markdown",
   "metadata": {},
   "source": [
    "# Airbnb data exploration\n",
    "\n",
    "In this notebook we try to describe and explore the features of public datasets.\n",
    "\n",
    "To look for more information about this public datasets look here: http://insideairbnb.com/get-the-data.html\n",
    "\n",
    "\n"
   ]
  },
  {
   "cell_type": "code",
   "execution_count": 1,
   "metadata": {},
   "outputs": [],
   "source": [
    "import pandas as pd\n",
    "import numpy as np\n",
    "import seaborn as sns\n",
    "\n",
    "from sklearn.linear_model import LinearRegression\n",
    "from sklearn.preprocessing import MinMaxScaler\n",
    "\n",
    "from matplotlib import pyplot as plt\n",
    "from utils import download_datasets"
   ]
  },
  {
   "cell_type": "code",
   "execution_count": 2,
   "metadata": {},
   "outputs": [
    {
     "name": "stdout",
     "output_type": "stream",
     "text": [
      "File: boston_listings.csv.gz, in cache\n",
      "File: boston_calendar.csv.gz, in cache\n",
      "File: boston_reviews.csv.gz, in cache\n",
      "File: seattle_listings.csv.gz, in cache\n",
      "File: seattle_calendar.csv.gz, in cache\n",
      "File: seattle_reviews.csv.gz, in cache\n"
     ]
    }
   ],
   "source": [
    "#datasets\n",
    "datasets_urls_boston = [\n",
    "    'http://data.insideairbnb.com/united-states/ma/boston/2018-08-17/data/listings.csv.gz',\n",
    "    'http://data.insideairbnb.com/united-states/ma/boston/2018-08-17/data/calendar.csv.gz',\n",
    "    'http://data.insideairbnb.com/united-states/ma/boston/2018-08-17/data/reviews.csv.gz'\n",
    "]\n",
    "\n",
    "datasets_urls_seattle = [\n",
    "    'http://data.insideairbnb.com/united-states/wa/seattle/2018-08-16/data/listings.csv.gz',\n",
    "    'http://data.insideairbnb.com/united-states/wa/seattle/2018-08-16/data/calendar.csv.gz',\n",
    "    'http://data.insideairbnb.com/united-states/wa/seattle/2018-08-16/data/reviews.csv.gz'\n",
    "]\n",
    "\n",
    "download_datasets(datasets_urls_boston, 'boston_')\n",
    "download_datasets(datasets_urls_seattle, 'seattle_')"
   ]
  },
  {
   "cell_type": "code",
   "execution_count": 3,
   "metadata": {},
   "outputs": [
    {
     "name": "stderr",
     "output_type": "stream",
     "text": [
      "/usr/local/lib/python3.6/site-packages/IPython/core/interactiveshell.py:2785: DtypeWarning: Columns (87) have mixed types. Specify dtype option on import or set low_memory=False.\n",
      "  interactivity=interactivity, compiler=compiler, result=result)\n"
     ]
    }
   ],
   "source": [
    "#Reading files\n",
    "datasets_cities = ['seattle', 'boston']\n",
    "\n",
    "listings = []\n",
    "calendar = []\n",
    "reviews = []\n",
    "\n",
    "for city in datasets_cities:\n",
    "    listings += [pd.read_csv(city+'_listings.csv.gz')]\n",
    "    calendar += [pd.read_csv(city+'_calendar.csv.gz', parse_dates=['date'])]\n",
    "    reviews  += [pd.read_csv(city+'_reviews.csv.gz')]\n",
    "\n",
    "listings = pd.concat(listings)\n",
    "calendar = pd.concat(calendar)\n",
    "reviews = pd.concat(reviews)\n",
    "\n"
   ]
  },
  {
   "cell_type": "code",
   "execution_count": 4,
   "metadata": {},
   "outputs": [
    {
     "data": {
      "text/plain": [
       "listing_id             int64\n",
       "date          datetime64[ns]\n",
       "available               bool\n",
       "price                float64\n",
       "dtype: object"
      ]
     },
     "execution_count": 4,
     "metadata": {},
     "output_type": "execute_result"
    }
   ],
   "source": [
    "#transform 't' or 'f' into True or False values.\n",
    "calendar.available = calendar.available.apply(lambda x: x == \"t\")\n",
    "#remove $ sign and parse the value as numeric.\n",
    "calendar.price = calendar.price.apply(lambda x: float(str(x).replace(\"$\",\"\").replace(\",\",\"\")))\n",
    "\n",
    "calendar.dtypes"
   ]
  },
  {
   "cell_type": "code",
   "execution_count": 5,
   "metadata": {},
   "outputs": [
    {
     "name": "stdout",
     "output_type": "stream",
     "text": [
      "Percent of null elements in the price column:  0.6285970453195562\n"
     ]
    }
   ],
   "source": [
    "null_percent_price = calendar.price.isnull().sum() / (calendar.price.shape[0])\n",
    "\n",
    "print(\"Percent of null elements in the price column: \", null_percent_price)"
   ]
  },
  {
   "cell_type": "code",
   "execution_count": 6,
   "metadata": {},
   "outputs": [
    {
     "name": "stderr",
     "output_type": "stream",
     "text": [
      "/usr/local/lib/python3.6/site-packages/sklearn/linear_model/base.py:509: RuntimeWarning: internal gelsd driver lwork query error, required iwork dimension not returned. This is likely the result of LAPACK bug 0038, fixed in LAPACK 3.2.2 (released July 21, 2010). Falling back to 'gelss' driver.\n",
      "  linalg.lstsq(X, y)\n"
     ]
    }
   ],
   "source": [
    "#Computing scalers.\n",
    "min_date = calendar.date.min()\n",
    "max_date = calendar.date.max()\n",
    "\n",
    "min_price = calendar.price.min()\n",
    "max_price = calendar.price.max()\n",
    "\n",
    "scaler_date = MinMaxScaler()\n",
    "scaler_price = MinMaxScaler()\n",
    "\n",
    "scaler_date.fit([[min_date.timestamp()], [max_date.timestamp()]])\n",
    "scaler_price.fit([[min_price], [max_price]])\n",
    "\n",
    "\n",
    "def slope_value(data):\n",
    "  x = data.copy()\n",
    "  x['date'] = x['date'].apply(lambda x: float(x.timestamp()))\n",
    "  x = x.dropna()\n",
    "  \n",
    "  if x.shape[0] == 0:\n",
    "    return np.nan\n",
    "  \n",
    "  X = x['date'].values.reshape(x['date'].shape[0], 1)\n",
    "  y = x['price'].values.reshape(x['price'].shape[0], 1)\n",
    "  \n",
    "  X = scaler_date.transform(X)\n",
    "  y = scaler_price.transform(y)\n",
    "  \n",
    "  lm = LinearRegression(n_jobs=-1)\n",
    "  lm.fit(X, y)\n",
    "  \n",
    "  return lm.coef_[0][0]\n",
    "\n",
    "\n",
    "def variation_metric(data):\n",
    "    x = data.copy()\n",
    "    x = x.dropna()\n",
    "    x = x['price'].values\n",
    "    if x.shape[0] == 0:\n",
    "        return np.nan\n",
    "    \n",
    "    var_score = 0\n",
    "    last_val = x[0]\n",
    "    \n",
    "    for val in x[1:]:\n",
    "        if last_val != val:\n",
    "            var_score += 1\n",
    "        last_val = val\n",
    "    \n",
    "    return var_score\n",
    "  \n",
    "def minmax_metric(data):\n",
    "    x = data.copy()\n",
    "    x = x.dropna()\n",
    "    if x.shape[0] == 0:\n",
    "        return np.nan\n",
    "    return x.price.max()/x.price.min()\n",
    "\n",
    "def availability_metric(data):\n",
    "    available_count = data[data.available == True]['available'].sum()\n",
    "    return available_count/data.available.shape[0]\n",
    "\n",
    "min_max = calendar.groupby('listing_id').apply(lambda x: minmax_metric(x))\n",
    "slope = calendar.groupby('listing_id').apply(lambda x: slope_value(x))\n",
    "variation = calendar.groupby('listing_id').apply(lambda x: variation_metric(x))\n",
    "available = calendar.groupby('listing_id').apply(lambda x: availability_metric(x))\n"
   ]
  },
  {
   "cell_type": "code",
   "execution_count": 7,
   "metadata": {},
   "outputs": [
    {
     "data": {
      "image/png": "[encoded data removed]",
      "text/plain": [
       "<Figure size 432x288 with 2 Axes>"
      ]
     },
     "metadata": {},
     "output_type": "display_data"
    }
   ],
   "source": [
    "min_max.name = \"min_max\"\n",
    "slope.name =\"slope\"\n",
    "variation.name = \"variation\"\n",
    "available.name = \"available\"\n",
    "\n",
    "\n",
    "\n",
    "combined_metrics = pd.concat([min_max, slope, variation, available], axis=1)\n",
    "corr_matrix = combined_metrics.corr()\n",
    "\n",
    "sns.heatmap(corr_matrix, annot=True);"
   ]
  },
  {
   "cell_type": "code",
   "execution_count": 41,
   "metadata": {
    "scrolled": true
   },
   "outputs": [
    {
     "data": {
      "image/png": "[encoded data removed]",
      "text/plain": [
       "<Figure size 360x360 with 1 Axes>"
      ]
     },
     "metadata": {},
     "output_type": "display_data"
    }
   ],
   "source": [
    "#Getting null % for each feature\n",
    "\n",
    "plt.figure(1, figsize=(5, 5))\n",
    "plt.xticks(rotation='vertical')\n",
    "total_size = listings.shape[0]\n",
    "\n",
    "labels_ = []\n",
    "values_ = []\n",
    "for feature in listings:\n",
    "    nulls_percentage = listings[feature].isna().sum()/total_size\n",
    "    if nulls_percentage > .3:\n",
    "        labels_ += [feature]\n",
    "        values_ += [nulls_percentage]\n",
    "plt.barh(labels_, values_)\n",
    "plt.show();"
   ]
  },
  {
   "cell_type": "code",
   "execution_count": null,
   "metadata": {},
   "outputs": [],
   "source": []
  }
 ],
 "metadata": {
  "kernelspec": {
   "display_name": "Python 3",
   "language": "python",
   "name": "python3"
  },
  "language_info": {
   "codemirror_mode": {
    "name": "ipython",
    "version": 3
   },
   "file_extension": ".py",
   "mimetype": "text/x-python",
   "name": "python",
   "nbconvert_exporter": "python",
   "pygments_lexer": "ipython3",
   "version": "3.6.5"
  }
 },
 "nbformat": 4,
 "nbformat_minor": 2
}
