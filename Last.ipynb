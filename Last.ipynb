{
 "cells": [
  {
   "cell_type": "markdown",
   "metadata": {},
   "source": [
    "# AirBNB data exploration\n",
    "\n",
    "In this notebook, we're going to try to answer the following questions:\n",
    "\n",
    "- What is affecting price variations?\n",
    "- Does it cares that a host has several listings on price variations?\n",
    "- When is a property on high or low price? (predictable)"
   ]
  },
  {
   "cell_type": "code",
   "execution_count": 1,
   "metadata": {},
   "outputs": [],
   "source": [
    "from dask import dataframe as ddf\n",
    "import dask\n",
    "import pandas as pd\n",
    "import numpy as np\n",
    "dask.config.set(scheduler='processes')\n",
    "#Custom function to download datasets from airbnb site.\n",
    "from utils import download_datasets"
   ]
  },
  {
   "cell_type": "code",
   "execution_count": 6,
   "metadata": {},
   "outputs": [
    {
     "name": "stdout",
     "output_type": "stream",
     "text": [
      "File: boston_listings.csv.gz, in cache\n",
      "File: boston_calendar.csv.gz, in cache\n",
      "File: boston_reviews.csv.gz, in cache\n",
      "File: seattle_listings.csv.gz, in cache\n",
      "File: seattle_calendar.csv.gz, in cache\n",
      "File: seattle_reviews.csv.gz, in cache\n",
      "File: austin_listings.csv.gz, in cache\n",
      "File: austin_calendar.csv.gz, in cache\n",
      "File: losangeles_listings.csv.gz, in cache\n",
      "File: losangeles_calendar.csv.gz, in cache\n",
      "File: neworleans_listings.csv.gz, in cache\n",
      "File: neworleans_calendar.csv.gz, in cache\n",
      "File: sandiego_listings.csv.gz, in cache\n",
      "File: sandiego_calendar.csv.gz, in cache\n"
     ]
    }
   ],
   "source": [
    "#datasets to download\n",
    "datasets_urls_boston = [\n",
    "    'http://data.insideairbnb.com/united-states/ma/boston/2018-08-17/data/listings.csv.gz',\n",
    "    'http://data.insideairbnb.com/united-states/ma/boston/2018-08-17/data/calendar.csv.gz',\n",
    "    'http://data.insideairbnb.com/united-states/ma/boston/2018-09-14/data/reviews.csv.gz'\n",
    "]\n",
    "\n",
    "datasets_urls_seattle = [\n",
    "    'http://data.insideairbnb.com/united-states/wa/seattle/2018-08-16/data/listings.csv.gz',\n",
    "    'http://data.insideairbnb.com/united-states/wa/seattle/2018-08-16/data/calendar.csv.gz',\n",
    "    'http://data.insideairbnb.com/united-states/wa/seattle/2018-09-14/data/reviews.csv.gz'\n",
    "]\n",
    "datasets_urls_austin = [\n",
    "    'http://data.insideairbnb.com/united-states/tx/austin/2018-08-14/data/listings.csv.gz',\n",
    "    'http://data.insideairbnb.com/united-states/tx/austin/2018-08-14/data/calendar.csv.gz'\n",
    "]\n",
    "\n",
    "\n",
    "datasets_urls_losangeles = [\n",
    "    'http://data.insideairbnb.com/united-states/ca/los-angeles/2018-09-08/data/listings.csv.gz',\n",
    "    'http://data.insideairbnb.com/united-states/ca/los-angeles/2018-09-08/data/calendar.csv.gz'\n",
    "]\n",
    "\n",
    "datasets_urls_neworleans = [\n",
    "    'http://data.insideairbnb.com/united-states/la/new-orleans/2018-09-08/data/listings.csv.gz',\n",
    "    'http://data.insideairbnb.com/united-states/la/new-orleans/2018-09-08/data/calendar.csv.gz'\n",
    "]\n",
    "\n",
    "\n",
    "datasets_urls_sandiego = [\n",
    "    'http://data.insideairbnb.com/united-states/ca/san-diego/2018-09-13/data/listings.csv.gz',\n",
    "    'http://data.insideairbnb.com/united-states/ca/san-diego/2018-09-13/data/calendar.csv.gz'\n",
    "]\n",
    "\n",
    "download_datasets(datasets_urls_boston, 'boston_')\n",
    "download_datasets(datasets_urls_seattle, 'seattle_')\n",
    "download_datasets(datasets_urls_austin, 'austin_')\n",
    "download_datasets(datasets_urls_losangeles, 'losangeles_')\n",
    "download_datasets(datasets_urls_neworleans, 'neworleans_')\n",
    "download_datasets(datasets_urls_sandiego, 'sandiego_')\n",
    "\n",
    "datasets_cities = [\n",
    "    'boston'\n",
    "#     'seattle',\n",
    "#     'austin',\n",
    "#     'neworleans',\n",
    "#     'sandiego',\n",
    "]"
   ]
  },
  {
   "cell_type": "code",
   "execution_count": 30,
   "metadata": {},
   "outputs": [
    {
     "name": "stderr",
     "output_type": "stream",
     "text": [
      "/usr/local/lib/python3.7/site-packages/numpy/lib/arraysetops.py:522: FutureWarning: elementwise comparison failed; returning scalar instead, but in the future will perform elementwise comparison\n",
      "  mask |= (ar1 == a)\n"
     ]
    }
   ],
   "source": [
    "#Reading files and loading data into Dataframe\n",
    "listings = [pd.read_csv(city + \"_listings.csv.gz\", low_memory=False, index_col='id') for city in datasets_cities]\n",
    "listings = ddf.from_pandas(pd.concat(listings), npartitions=24)\n",
    "calendar = [pd.read_csv(city + \"_calendar.csv.gz\", parse_dates=['date'], low_memory=False, index_col='listing_id') for city in datasets_cities]\n",
    "calendar = ddf.from_pandas(pd.concat(calendar), npartitions=24)"
   ]
  },
  {
   "cell_type": "code",
   "execution_count": 32,
   "metadata": {},
   "outputs": [],
   "source": [
    "calendar.price = calendar.price.apply(lambda x: float(str(x).replace(\"$\",\"\").replace(\",\",\"\")), meta=int)"
   ]
  },
  {
   "cell_type": "code",
   "execution_count": 34,
   "metadata": {},
   "outputs": [],
   "source": [
    "calendar.available = calendar.available.apply(lambda x: True if x == 't' else False, meta=bool)"
   ]
  },
  {
   "cell_type": "code",
   "execution_count": null,
   "metadata": {},
   "outputs": [],
   "source": []
  },
  {
   "cell_type": "code",
   "execution_count": null,
   "metadata": {},
   "outputs": [],
   "source": []
  }
 ],
 "metadata": {
  "kernelspec": {
   "display_name": "Python 3",
   "language": "python",
   "name": "python3"
  },
  "language_info": {
   "codemirror_mode": {
    "name": "ipython",
    "version": 3
   },
   "file_extension": ".py",
   "mimetype": "text/x-python",
   "name": "python",
   "nbconvert_exporter": "python",
   "pygments_lexer": "ipython3",
   "version": "3.7.0"
  }
 },
 "nbformat": 4,
 "nbformat_minor": 2
}
