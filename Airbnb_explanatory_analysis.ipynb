{
 "cells": [
  {
   "cell_type": "markdown",
   "metadata": {},
   "source": [
    "# AirBNB data exploration\n",
    "\n",
    "In this notebook, we're going to try to answer the following questions:\n",
    "\n",
    "- What is affecting price variations?\n",
    "- Does it cares that a host has several listings on price variations?\n",
    "- When is a property on high or low price? (predictable)"
   ]
  },
  {
   "cell_type": "code",
   "execution_count": 14,
   "metadata": {},
   "outputs": [],
   "source": [
    "# Required imports for the project\n",
    "import pandas as pd\n",
    "import numpy as np\n",
    "import seaborn as sns\n",
    "import swifter\n",
    "import dask.dataframe as dd\n",
    "\n",
    "\n",
    "from sklearn.linear_model import LinearRegression\n",
    "from sklearn.preprocessing import MinMaxScaler\n",
    "from sklearn.model_selection import train_test_split\n",
    "\n",
    "from matplotlib import pyplot as plt\n",
    "import matplotlib\n",
    "\n",
    "#Custom function to download datasets from airbnb site.\n",
    "from utils import download_datasets"
   ]
  },
  {
   "cell_type": "code",
   "execution_count": 47,
   "metadata": {},
   "outputs": [
    {
     "name": "stdout",
     "output_type": "stream",
     "text": [
      "File: boston_listings.csv.gz, in cache\n",
      "File: boston_calendar.csv.gz, in cache\n",
      "File: seattle_listings.csv.gz, in cache\n",
      "File: seattle_calendar.csv.gz, in cache\n",
      "File: austin_listings.csv.gz, in cache\n",
      "File: austin_calendar.csv.gz, in cache\n",
      "File: losangeles_listings.csv.gz, in cache\n",
      "File: losangeles_calendar.csv.gz, in cache\n",
      "File: neworleans_listings.csv.gz, in cache\n",
      "File: neworleans_calendar.csv.gz, in cache\n",
      "File: sandiego_listings.csv.gz, in cache\n",
      "File: sandiego_calendar.csv.gz, in cache\n"
     ]
    }
   ],
   "source": [
    "#datasets to download\n",
    "datasets_urls_boston = [\n",
    "    'http://data.insideairbnb.com/united-states/ma/boston/2018-08-17/data/listings.csv.gz',\n",
    "    'http://data.insideairbnb.com/united-states/ma/boston/2018-08-17/data/calendar.csv.gz',\n",
    "    'http://data.insideairbnb.com/united-states/ma/boston/2018-09-14/data/reviews.csv.gz'\n",
    "]\n",
    "\n",
    "datasets_urls_seattle = [\n",
    "    'http://data.insideairbnb.com/united-states/wa/seattle/2018-08-16/data/listings.csv.gz',\n",
    "    'http://data.insideairbnb.com/united-states/wa/seattle/2018-08-16/data/calendar.csv.gz',\n",
    "    'http://data.insideairbnb.com/united-states/wa/seattle/2018-09-14/data/reviews.csv.gz'\n",
    "]\n",
    "datasets_urls_austin = [\n",
    "    'http://data.insideairbnb.com/united-states/tx/austin/2018-08-14/data/listings.csv.gz',\n",
    "    'http://data.insideairbnb.com/united-states/tx/austin/2018-08-14/data/calendar.csv.gz'\n",
    "]\n",
    "\n",
    "\n",
    "datasets_urls_losangeles = [\n",
    "    'http://data.insideairbnb.com/united-states/ca/los-angeles/2018-09-08/data/listings.csv.gz',\n",
    "    'http://data.insideairbnb.com/united-states/ca/los-angeles/2018-09-08/data/calendar.csv.gz'\n",
    "]\n",
    "\n",
    "datasets_urls_neworleans = [\n",
    "    'http://data.insideairbnb.com/united-states/la/new-orleans/2018-09-08/data/listings.csv.gz',\n",
    "    'http://data.insideairbnb.com/united-states/la/new-orleans/2018-09-08/data/calendar.csv.gz'\n",
    "]\n",
    "\n",
    "\n",
    "datasets_urls_sandiego = [\n",
    "    'http://data.insideairbnb.com/united-states/ca/san-diego/2018-09-13/data/listings.csv.gz',\n",
    "    'http://data.insideairbnb.com/united-states/ca/san-diego/2018-09-13/data/calendar.csv.gz'\n",
    "]\n",
    "\n",
    "download_datasets(datasets_urls_boston, 'boston_')\n",
    "download_datasets(datasets_urls_seattle, 'seattle_')\n",
    "download_datasets(datasets_urls_austin, 'austin_')\n",
    "download_datasets(datasets_urls_losangeles, 'losangeles_')\n",
    "download_datasets(datasets_urls_neworleans, 'neworleans_')\n",
    "download_datasets(datasets_urls_sandiego, 'sandiego_')\n",
    "\n",
    "datasets_cities = [\n",
    "    'boston',\n",
    "    'seattle',\n",
    "    'austin',\n",
    "    'neworleans',\n",
    "    'sandiego',\n",
    "]"
   ]
  },
  {
   "cell_type": "code",
   "execution_count": null,
   "metadata": {},
   "outputs": [],
   "source": [
    "#Reading files and loading data into Dataframe\n",
    "\n",
    "listings = []\n",
    "calendar = []\n",
    "\n",
    "for city in datasets_cities:\n",
    "    listings += [pd.read_csv(city+'_listings.csv.gz', index_col=0, low_memory=False)]\n",
    "    calendar += [pd.read_csv(city+'_calendar.csv.gz', parse_dates=['date'], low_memory=False)]\n",
    "\n",
    "listings = pd.concat(listings)\n",
    "calendar = pd.concat(calendar)"
   ]
  },
  {
   "cell_type": "code",
   "execution_count": 16,
   "metadata": {},
   "outputs": [],
   "source": [
    "def load_dataframes(datasets):\n",
    "    df_calendars = {}\n",
    "    df_listings = {}\n",
    "    for city in datasets:\n",
    "        df_listings[city] = pd.read_csv(city+'_listings.csv.gz', index_col=0, low_memory=False)\n",
    "        df_calendars[city] = pd.read_csv(city+'_calendar.csv.gz', parse_dates=['date'], low_memory=False)\n",
    "    \n",
    "    return df_calendars, df_listings"
   ]
  },
  {
   "cell_type": "code",
   "execution_count": 17,
   "metadata": {
    "scrolled": true
   },
   "outputs": [],
   "source": [
    "# Data cleanning\n",
    "\n",
    "def cleaning_calendar(df):\n",
    "    #transform 't' or 'f' into True or False values.\n",
    "    df.available = df.available.apply(lambda x: x == \"t\")\n",
    "    #remove $ sign and parse the value as numeric.\n",
    "    df.price = df.price.apply(lambda x: float(str(x).replace(\"$\",\"\").replace(\",\",\"\")))\n",
    "    df.reset_index(drop=True)\n",
    "    return df\n",
    "\n"
   ]
  },
  {
   "cell_type": "code",
   "execution_count": null,
   "metadata": {},
   "outputs": [],
   "source": [
    "calendar = cleaning_calendar(calendar)"
   ]
  },
  {
   "cell_type": "code",
   "execution_count": null,
   "metadata": {},
   "outputs": [],
   "source": [
    "calendar['price'].describe()"
   ]
  },
  {
   "cell_type": "code",
   "execution_count": null,
   "metadata": {},
   "outputs": [],
   "source": [
    "calendar.groupby('listing_id').count().mean()"
   ]
  },
  {
   "cell_type": "markdown",
   "metadata": {},
   "source": [
    "Data per listing is related to a entire year"
   ]
  },
  {
   "cell_type": "code",
   "execution_count": null,
   "metadata": {
    "scrolled": true
   },
   "outputs": [],
   "source": [
    "%%time\n",
    "def date_to_cols(df):\n",
    "    df = df.copy()\n",
    "    df['year'] = 0\n",
    "    df['month'] = 0\n",
    "    df['day'] = 0\n",
    "    def date_to_cols_apply(x):\n",
    "        x = x.copy()\n",
    "        x.year = x.date.year\n",
    "        x.month = x.date.month\n",
    "        x.day = x.date.day\n",
    "        return x\n",
    "    return df.swifter.apply(date_to_cols_apply, axis=1)"
   ]
  },
  {
   "cell_type": "code",
   "execution_count": null,
   "metadata": {},
   "outputs": [],
   "source": [
    "calendar = date_to_cols(calendar)"
   ]
  },
  {
   "cell_type": "code",
   "execution_count": null,
   "metadata": {},
   "outputs": [],
   "source": [
    "#calendar = calendar.drop(['date'], axis=1)\n",
    "stats_calendar = calendar.price.describe()"
   ]
  },
  {
   "cell_type": "code",
   "execution_count": null,
   "metadata": {},
   "outputs": [],
   "source": [
    "calendar['price_per_listing'] = 0.0\n",
    "calendar = calendar.fillna(0)\n",
    "\n",
    "def apply_per_listing(df):\n",
    "    df.price_per_listing = MinMaxScaler().fit_transform(df.price.values.reshape(-1, 1))\n",
    "    return df"
   ]
  },
  {
   "cell_type": "code",
   "execution_count": null,
   "metadata": {},
   "outputs": [],
   "source": [
    "ddf = dd.from_pandas(calendar, npartitions=6)"
   ]
  },
  {
   "cell_type": "code",
   "execution_count": null,
   "metadata": {},
   "outputs": [],
   "source": [
    "%%time\n",
    "calendar = ddf.groupby('listing_id').apply(apply_per_listing, meta=ddf).compute()"
   ]
  },
  {
   "cell_type": "code",
   "execution_count": 5,
   "metadata": {},
   "outputs": [],
   "source": [
    "def generate_price_per_listing(df):\n",
    "    df['price_per_listing'] = 0.0\n",
    "    df = df.fillna(0)\n",
    "\n",
    "    def apply_per_listing(df):\n",
    "        df.price_per_listing = MinMaxScaler().fit_transform(df.price.values.reshape(-1, 1))\n",
    "        return df\n",
    "    ddf = dd.from_pandas(df, npartitions=6)\n",
    "    df = ddf.groupby('listing_id').apply(apply_per_listing, meta=ddf).compute()\n",
    "    return df"
   ]
  },
  {
   "cell_type": "code",
   "execution_count": null,
   "metadata": {
    "scrolled": false
   },
   "outputs": [],
   "source": [
    "p25_50 = calendar[calendar.price <= stats_calendar['50%']][calendar.price > stats_calendar['25%']][calendar.available].groupby([\"month\"]).price_per_listing.mean()\n",
    "p50_75 = calendar[calendar.price <= stats_calendar['75%']][calendar.price > stats_calendar['50%']][calendar.available].groupby([\"month\"]).price_per_listing.mean()\n",
    "p25 = calendar[calendar.price <= stats_calendar['25%']][calendar.available].groupby([\"month\"]).price_per_listing.mean()\n",
    "p75 = calendar[calendar.price > stats_calendar['75%']][calendar.available].groupby([\"month\"]).price_per_listing.mean()\n",
    "\n",
    "\n",
    "\n",
    "res = pd.concat([p25, p25_50, p50_75, p75], axis=1)\n",
    "res.columns = ['0-25', 'p25_50', 'p50_75','75-100']\n",
    "\n",
    "\n",
    "res\n",
    "fig, ax = plt.subplots()\n",
    "\n",
    "plt.grid(True)\n",
    "fig.set_size_inches(11.7, 8.27)\n",
    "\n",
    "\n",
    "sns.lineplot(data=res).set_title(\"Month vs Avg.Price per quartile\");"
   ]
  },
  {
   "cell_type": "code",
   "execution_count": null,
   "metadata": {},
   "outputs": [],
   "source": [
    "p25_50 = calendar[calendar.price <= stats_calendar['50%']][calendar.price > stats_calendar['25%']].groupby([\"month\"]).available.sum()\n",
    "p50_75 = calendar[calendar.price <= stats_calendar['75%']][calendar.price > stats_calendar['50%']].groupby([\"month\"]).available.sum()\n",
    "p25 = calendar[calendar.price <= stats_calendar['25%']].groupby([\"month\"]).available.sum()\n",
    "p75 = calendar[calendar.price > stats_calendar['75%']].groupby([\"month\"]).available.sum()\n",
    "\n",
    "\n",
    "\n",
    "res = pd.concat([p25, p25_50, p50_75,  p75], axis=1)\n",
    "res.columns = ['0-25', 'p25_50', 'p50_75','75-100']"
   ]
  },
  {
   "cell_type": "code",
   "execution_count": null,
   "metadata": {},
   "outputs": [],
   "source": [
    "fig, ax = plt.subplots()\n",
    "plt.grid(True)\n",
    "fig.set_size_inches(11.7, 8.27)\n",
    "\n",
    "\n",
    "sns.lineplot(data=res).set_title(\"Month vs Availability(sum) per quartile\");"
   ]
  },
  {
   "cell_type": "code",
   "execution_count": null,
   "metadata": {},
   "outputs": [],
   "source": []
  },
  {
   "cell_type": "code",
   "execution_count": 18,
   "metadata": {},
   "outputs": [],
   "source": [
    "def getting_quartiles(df):\n",
    "    \n",
    "    stats_calendar = df.price.describe()\n",
    "    \n",
    "    p75_price = df[df.price > stats_calendar['75%']][df.available].groupby(df.date.dt.month).price_per_listing.mean()\n",
    "    #p50_75_price = df[df.price <= stats_calendar['75%']][df.price > stats_calendar['50%']][df.available].groupby(df.date.dt.month).price_per_listing.mean()\n",
    "    #p25_50_price = df[df.price <= stats_calendar['50%']][df.price > stats_calendar['25%']][df.available].groupby(df.date.dt.month).price_per_listing.mean()\n",
    "    #p25_price = df[df.price <= stats_calendar['25%']][df.available].groupby(df.date.dt.month).price_per_listing.mean()\n",
    "\n",
    "    p75_av = df[df.price > stats_calendar['75%']].groupby(df.date.dt.month).available.sum()\n",
    "    #p50_75_av = df[df.price <= stats_calendar['75%']][df.price > stats_calendar['50%']].groupby(df.date.dt.month).available.sum()\n",
    "    #p25_50_av = df[df.price <= stats_calendar['50%']][df.price > stats_calendar['25%']].groupby(df.date.dt.month).available.sum()\n",
    "    #p25_av = df[df.price <= stats_calendar['25%']].groupby(df.date.dt.month).available.sum()\n",
    "\n",
    "    \n",
    "    #return p75_price, p50_75_price, p25_50_price, p25_price, p75_av, p50_75_av, p25_50_av, p25_av\n",
    "    return p75_price, p75_av\n",
    "    \n",
    "def plot_quartile(price, availability, label):\n",
    "\n",
    "    scaler = MinMaxScaler()\n",
    "    scaler.fit([[availability.min()], [availability.max()]])\n",
    "    availability = availability.apply(lambda x: scaler.transform([[x]])[0][0])\n",
    "\n",
    "    res = pd.concat([availability, price], axis=1)\n",
    "    res.columns = [label+'_av', label+'_pr']\n",
    "    fig, ax = plt.subplots()\n",
    "    plt.grid(True)\n",
    "    fig.set_size_inches(11.7, 8.27)\n",
    "    sns.lineplot(data=res).set_title(\"Price and Availability by month within quartile \" + label);\n"
   ]
  },
  {
   "cell_type": "code",
   "execution_count": 48,
   "metadata": {},
   "outputs": [],
   "source": [
    "df_calendars, _ = load_dataframes(datasets_cities)"
   ]
  },
  {
   "cell_type": "code",
   "execution_count": 49,
   "metadata": {
    "scrolled": false
   },
   "outputs": [],
   "source": [
    "for key in df_calendars.keys():\n",
    "    df_calendars[key] = cleaning_calendar(df_calendars[key])\n",
    "    df_calendars[key] = generate_price_per_listing(df_calendars[key])"
   ]
  },
  {
   "cell_type": "code",
   "execution_count": 50,
   "metadata": {},
   "outputs": [],
   "source": [
    "def p75_availabity(dfs):\n",
    "    p75 = []\n",
    "    for k, v in dfs.items():\n",
    "        stats_calendar = v.price.describe()\n",
    "        p75_av = v[v.price > stats_calendar['75%']].groupby(v.date.dt.month).available.sum()\n",
    "        p75_av = df[df.price > stats_calendar['75%']].groupby(df.date.dt.month).available.sum()\n",
    "        p50_75_av = df[df.price <= stats_calendar['75%']][df.price > stats_calendar['50%']].groupby(df.date.dt.month).available.sum()\n",
    "        p25_50_av = df[df.price <= stats_calendar['50%']][df.price > stats_calendar['25%']].groupby(df.date.dt.month).available.sum()\n",
    "        p25_av = df[df.price <= stats_calendar['25%']].groupby(df.date.dt.month).available.sum()\n",
    "        scaler = MinMaxScaler()\n",
    "        scaler.fit([[p75_av.min()], [p75_av.max()]])\n",
    "        p75_av = p75_av.apply(lambda x: scaler.transform([[x]])[0][0])\n",
    "        p75_av.name = k\n",
    "        p75.append(p75_av)\n",
    "    p75 = pd.DataFrame(p75).T\n",
    "    return p75"
   ]
  },
  {
   "cell_type": "code",
   "execution_count": 53,
   "metadata": {},
   "outputs": [
    {
     "data": {
      "text/plain": [
       "<matplotlib.axes._subplots.AxesSubplot at 0x2588ab9acf8>"
      ]
     },
     "execution_count": 53,
     "metadata": {},
     "output_type": "execute_result"
    },
    {
     "data": {
      "image/png": "[encoded data removed]",
      "text/plain": [
       "<Figure size 432x288 with 1 Axes>"
      ]
     },
     "metadata": {},
     "output_type": "display_data"
    }
   ],
   "source": [
    "p75_availabity(df_calendars).plot()"
   ]
  },
  {
   "cell_type": "code",
   "execution_count": 54,
   "metadata": {},
   "outputs": [],
   "source": [
    "def p75_pricing(dfs):\n",
    "    p75 = []\n",
    "    for k, v in dfs.items():\n",
    "        stats_calendar = v.price.describe()\n",
    "        p75_price = v[v.price > stats_calendar['75%']].groupby(v.date.dt.month).price_per_listing.mean()\n",
    "        p75_price.name = k\n",
    "        p75.append(p75_price)\n",
    "    p75 = pd.DataFrame(p75).T\n",
    "    return p75"
   ]
  },
  {
   "cell_type": "code",
   "execution_count": 57,
   "metadata": {},
   "outputs": [
    {
     "data": {
      "text/plain": [
       "<matplotlib.axes._subplots.AxesSubplot at 0x258814f60f0>"
      ]
     },
     "execution_count": 57,
     "metadata": {},
     "output_type": "execute_result"
    },
    {
     "data": {
      "image/png": "[encoded data removed]",
      "text/plain": [
       "<Figure size 432x288 with 1 Axes>"
      ]
     },
     "metadata": {},
     "output_type": "display_data"
    }
   ],
   "source": [
    "p75_pricing(df_calendars).plot()"
   ]
  },
  {
   "cell_type": "code",
   "execution_count": null,
   "metadata": {},
   "outputs": [],
   "source": []
  }
 ],
 "metadata": {
  "kernelspec": {
   "display_name": "Python 3",
   "language": "python",
   "name": "python3"
  },
  "language_info": {
   "codemirror_mode": {
    "name": "ipython",
    "version": 3
   },
   "file_extension": ".py",
   "mimetype": "text/x-python",
   "name": "python",
   "nbconvert_exporter": "python",
   "pygments_lexer": "ipython3",
   "version": "3.7.0"
  }
 },
 "nbformat": 4,
 "nbformat_minor": 2
}
