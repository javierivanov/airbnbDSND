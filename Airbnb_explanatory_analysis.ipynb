{
 "cells": [
  {
   "cell_type": "markdown",
   "metadata": {},
   "source": [
    "# AirBNB data exploration\n",
    "\n",
    "In this notebook, we're going to try to answer the following questions:\n",
    "\n",
    "- Is it reviews affecting prices and variations?\n",
    "- Does it cares that a host has several listings on price variations?\n",
    "- When is a property on high or low price? (predictable)"
   ]
  },
  {
   "cell_type": "code",
   "execution_count": 1,
   "metadata": {},
   "outputs": [],
   "source": [
    "# Required imports for the project\n",
    "import pandas as pd\n",
    "import numpy as np\n",
    "import seaborn as sns\n",
    "\n",
    "from sklearn.linear_model import LinearRegression\n",
    "from sklearn.preprocessing import MinMaxScaler\n",
    "from sklearn.model_selection import train_test_split\n",
    "\n",
    "from matplotlib import pyplot as plt\n",
    "import matplotlib\n",
    "\n",
    "#Custom function to download datasets from airbnb site.\n",
    "from utils import download_datasets"
   ]
  },
  {
   "cell_type": "code",
   "execution_count": 2,
   "metadata": {},
   "outputs": [
    {
     "name": "stdout",
     "output_type": "stream",
     "text": [
      "File: boston_listings.csv.gz, in cache\n",
      "File: boston_calendar.csv.gz, in cache\n",
      "File: boston_reviews.csv.gz, in cache\n",
      "File: seattle_listings.csv.gz, in cache\n",
      "File: seattle_calendar.csv.gz, in cache\n",
      "File: seattle_reviews.csv.gz, in cache\n",
      "File: austin_listings.csv.gz, in cache\n",
      "File: austin_calendar.csv.gz, in cache\n",
      "File: austin_reviews.csv.gz, in cache\n"
     ]
    }
   ],
   "source": [
    "#datasets to download\n",
    "datasets_urls_boston = [\n",
    "    'http://data.insideairbnb.com/united-states/ma/boston/2018-08-17/data/listings.csv.gz',\n",
    "    'http://data.insideairbnb.com/united-states/ma/boston/2018-08-17/data/calendar.csv.gz'\n",
    "]\n",
    "\n",
    "datasets_urls_seattle = [\n",
    "    'http://data.insideairbnb.com/united-states/wa/seattle/2018-08-16/data/listings.csv.gz',\n",
    "    'http://data.insideairbnb.com/united-states/wa/seattle/2018-08-16/data/calendar.csv.gz'\n",
    "]\n",
    "datasets_urls_austin = [\n",
    "    'http://data.insideairbnb.com/united-states/tx/austin/2018-08-14/data/listings.csv.gz',\n",
    "    'http://data.insideairbnb.com/united-states/tx/austin/2018-08-14/data/calendar.csv.gz'\n",
    "]\n",
    "\n",
    "download_datasets(datasets_urls_boston, 'boston_')\n",
    "download_datasets(datasets_urls_seattle, 'seattle_')\n",
    "download_datasets(datasets_urls_austin, 'austin_')\n",
    "\n",
    "\n",
    "datasets_cities = [\n",
    "    'seattle',\n",
    "    'boston',\n",
    "    'austin'\n",
    "]\n",
    "\n",
    "datasets_cities = ['seattle', 'boston', 'austin']"
   ]
  },
  {
   "cell_type": "code",
   "execution_count": 3,
   "metadata": {},
   "outputs": [
    {
     "name": "stderr",
     "output_type": "stream",
     "text": [
      "/usr/local/lib/python3.6/dist-packages/IPython/core/interactiveshell.py:2785: DtypeWarning: Columns (87) have mixed types. Specify dtype option on import or set low_memory=False.\n",
      "  interactivity=interactivity, compiler=compiler, result=result)\n",
      "/usr/local/lib/python3.6/dist-packages/IPython/core/interactiveshell.py:2785: DtypeWarning: Columns (43) have mixed types. Specify dtype option on import or set low_memory=False.\n",
      "  interactivity=interactivity, compiler=compiler, result=result)\n"
     ]
    }
   ],
   "source": [
    "#Reading files and loading data into Dataframe\n",
    "\n",
    "listings = []\n",
    "calendar = []\n",
    "\n",
    "for city in datasets_cities:\n",
    "    listings += [pd.read_csv(city+'_listings.csv.gz', index_col=0)]\n",
    "    calendar += [pd.read_csv(city+'_calendar.csv.gz', parse_dates=['date'])]\n",
    "    ]\n",
    "\n",
    "listings = pd.concat(listings)\n",
    "calendar = pd.concat(calendar)\n",
    "reviews = pd.concat(reviews)\n"
   ]
  },
  {
   "cell_type": "code",
   "execution_count": 15,
   "metadata": {},
   "outputs": [],
   "source": [
    "# Data cleanning\n",
    "\n",
    "#transform 't' or 'f' into True or False values.\n",
    "calendar.available = calendar.available.apply(lambda x: x == \"t\")\n",
    "#remove $ sign and parse the value as numeric.\n",
    "calendar.price = calendar.price.apply(lambda x: float(str(x).replace(\"$\",\"\").replace(\",\",\"\")))"
   ]
  },
  {
   "cell_type": "code",
   "execution_count": 7,
   "metadata": {},
   "outputs": [
    {
     "data": {
      "text/plain": [
       "count    3.605498e+06\n",
       "mean     2.647941e+02\n",
       "std      4.437125e+02\n",
       "min      1.000000e+00\n",
       "25%      9.100000e+01\n",
       "50%      1.540000e+02\n",
       "75%      2.900000e+02\n",
       "max      1.000000e+04\n",
       "Name: price, dtype: float64"
      ]
     },
     "execution_count": 7,
     "metadata": {},
     "output_type": "execute_result"
    }
   ],
   "source": [
    "calendar['price'].describe()"
   ]
  },
  {
   "cell_type": "code",
   "execution_count": 14,
   "metadata": {},
   "outputs": [
    {
     "data": {
      "text/plain": [
       "date         365.000000\n",
       "available    365.000000\n",
       "price        138.833192\n",
       "dtype: float64"
      ]
     },
     "execution_count": 14,
     "metadata": {},
     "output_type": "execute_result"
    }
   ],
   "source": [
    "calendar.groupby('listing_id').count().mean()"
   ]
  },
  {
   "cell_type": "markdown",
   "metadata": {},
   "source": [
    "Data per listing is related to a entire year"
   ]
  },
  {
   "cell_type": "code",
   "execution_count": null,
   "metadata": {},
   "outputs": [],
   "source": []
  }
 ],
 "metadata": {
  "kernelspec": {
   "display_name": "Python 3",
   "language": "python",
   "name": "python3"
  },
  "language_info": {
   "codemirror_mode": {
    "name": "ipython",
    "version": 3
   },
   "file_extension": ".py",
   "mimetype": "text/x-python",
   "name": "python",
   "nbconvert_exporter": "python",
   "pygments_lexer": "ipython3",
   "version": "3.6.6"
  }
 },
 "nbformat": 4,
 "nbformat_minor": 2
}
