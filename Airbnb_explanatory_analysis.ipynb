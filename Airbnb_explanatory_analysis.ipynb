{
 "cells": [
  {
   "cell_type": "markdown",
   "metadata": {},
   "source": [
    "# AirBNB data exploration\n",
    "\n",
    "In this notebook, we're going to try to answer the following questions:\n",
    "\n",
    "- What is affecting price variations?\n",
    "- Does it cares that a host has several listings on price variations?\n",
    "- When is a property on high or low price? (predictable)"
   ]
  },
  {
   "cell_type": "code",
   "execution_count": 1,
   "metadata": {},
   "outputs": [],
   "source": [
    "# Required imports for the project\n",
    "import pandas as pd\n",
    "import numpy as np\n",
    "import seaborn as sns\n",
    "import swifter\n",
    "\n",
    "\n",
    "from sklearn.linear_model import LinearRegression\n",
    "from sklearn.preprocessing import MinMaxScaler\n",
    "from sklearn.model_selection import train_test_split\n",
    "\n",
    "from matplotlib import pyplot as plt\n",
    "import matplotlib\n",
    "\n",
    "#Custom function to download datasets from airbnb site.\n",
    "from utils import download_datasets"
   ]
  },
  {
   "cell_type": "code",
   "execution_count": 11,
   "metadata": {},
   "outputs": [
    {
     "name": "stdout",
     "output_type": "stream",
     "text": [
      "File: boston_listings.csv.gz, in cache\n",
      "File: boston_calendar.csv.gz, in cache\n",
      "File: seattle_listings.csv.gz, in cache\n",
      "File: seattle_calendar.csv.gz, in cache\n",
      "File: austin_listings.csv.gz, in cache\n",
      "File: austin_calendar.csv.gz, in cache\n"
     ]
    }
   ],
   "source": [
    "#datasets to download\n",
    "datasets_urls_boston = [\n",
    "    'http://data.insideairbnb.com/united-states/ma/boston/2018-08-17/data/listings.csv.gz',\n",
    "    'http://data.insideairbnb.com/united-states/ma/boston/2018-08-17/data/calendar.csv.gz'\n",
    "]\n",
    "\n",
    "datasets_urls_seattle = [\n",
    "    'http://data.insideairbnb.com/united-states/wa/seattle/2018-08-16/data/listings.csv.gz',\n",
    "    'http://data.insideairbnb.com/united-states/wa/seattle/2018-08-16/data/calendar.csv.gz'\n",
    "]\n",
    "datasets_urls_austin = [\n",
    "    'http://data.insideairbnb.com/united-states/tx/austin/2018-08-14/data/listings.csv.gz',\n",
    "    'http://data.insideairbnb.com/united-states/tx/austin/2018-08-14/data/calendar.csv.gz'\n",
    "]\n",
    "\n",
    "download_datasets(datasets_urls_boston, 'boston_')\n",
    "download_datasets(datasets_urls_seattle, 'seattle_')\n",
    "download_datasets(datasets_urls_austin, 'austin_')\n",
    "\n",
    "\n",
    "datasets_cities = [\n",
    "    'seattle',\n",
    "    'boston',\n",
    "    'austin'\n",
    "]\n",
    "\n",
    "datasets_cities = ['seattle']"
   ]
  },
  {
   "cell_type": "code",
   "execution_count": 12,
   "metadata": {},
   "outputs": [
    {
     "name": "stderr",
     "output_type": "stream",
     "text": [
      "C:\\Users\\0xffa\\AppData\\Local\\conda\\conda\\envs\\Devel\\lib\\site-packages\\IPython\\core\\interactiveshell.py:2785: DtypeWarning: Columns (87) have mixed types. Specify dtype option on import or set low_memory=False.\n",
      "  interactivity=interactivity, compiler=compiler, result=result)\n"
     ]
    }
   ],
   "source": [
    "#Reading files and loading data into Dataframe\n",
    "\n",
    "listings = []\n",
    "calendar = []\n",
    "\n",
    "for city in datasets_cities:\n",
    "    listings += [pd.read_csv(city+'_listings.csv.gz', index_col=0)]\n",
    "    calendar += [pd.read_csv(city+'_calendar.csv.gz', parse_dates=['date'])]\n",
    "\n",
    "listings = pd.concat(listings)\n",
    "calendar = pd.concat(calendar)\n",
    "\n",
    "#calendar = dd.from_pandas(calendar, npartitions=100)"
   ]
  },
  {
   "cell_type": "code",
   "execution_count": 13,
   "metadata": {
    "scrolled": true
   },
   "outputs": [
    {
     "data": {
      "text/plain": [
       "listing_id             int64\n",
       "date          datetime64[ns]\n",
       "available               bool\n",
       "price                float64\n",
       "dtype: object"
      ]
     },
     "execution_count": 13,
     "metadata": {},
     "output_type": "execute_result"
    }
   ],
   "source": [
    "# Data cleanning\n",
    "\n",
    "#transform 't' or 'f' into True or False values.\n",
    "calendar.available = calendar.available.apply(lambda x: x == \"t\")\n",
    "#remove $ sign and parse the value as numeric.\n",
    "calendar.price = calendar.price.apply(lambda x: float(str(x).replace(\"$\",\"\").replace(\",\",\"\")))\n",
    "\n",
    "calendar.dtypes"
   ]
  },
  {
   "cell_type": "code",
   "execution_count": 14,
   "metadata": {},
   "outputs": [
    {
     "data": {
      "text/plain": [
       "count    1.128970e+06\n",
       "mean     1.707162e+02\n",
       "std      1.336236e+02\n",
       "min      1.000000e+01\n",
       "25%      9.000000e+01\n",
       "50%      1.330000e+02\n",
       "75%      2.010000e+02\n",
       "max      9.990000e+03\n",
       "Name: price, dtype: float64"
      ]
     },
     "execution_count": 14,
     "metadata": {},
     "output_type": "execute_result"
    }
   ],
   "source": [
    "calendar['price'].describe()"
   ]
  },
  {
   "cell_type": "code",
   "execution_count": 15,
   "metadata": {},
   "outputs": [
    {
     "data": {
      "text/plain": [
       "date         365.000000\n",
       "available    365.000000\n",
       "price        132.913822\n",
       "dtype: float64"
      ]
     },
     "execution_count": 15,
     "metadata": {},
     "output_type": "execute_result"
    }
   ],
   "source": [
    "calendar.groupby('listing_id').count().mean()"
   ]
  },
  {
   "cell_type": "markdown",
   "metadata": {},
   "source": [
    "Data per listing is related to a entire year"
   ]
  },
  {
   "cell_type": "code",
   "execution_count": 16,
   "metadata": {
    "scrolled": true
   },
   "outputs": [
    {
     "data": {
      "application/vnd.jupyter.widget-view+json": {
       "model_id": "a96133ae9341460b8b06ad6ac818fbe9",
       "version_major": 2,
       "version_minor": 0
      },
      "text/plain": [
       "HBox(children=(IntProgress(value=0, description='Dask Apply', max=48), HTML(value='')))"
      ]
     },
     "metadata": {},
     "output_type": "display_data"
    },
    {
     "name": "stdout",
     "output_type": "stream",
     "text": [
      "\n",
      "Wall time: 1min 15s\n"
     ]
    }
   ],
   "source": [
    "%%time\n",
    "calendar['year'] = 0\n",
    "calendar['month'] = 0\n",
    "calendar['day'] = 0\n",
    "def date_to_cols(x):\n",
    "    x.year = x.date.year\n",
    "    x.month = x.date.month\n",
    "    x.day = x.date.day\n",
    "    return x\n",
    "calendar = calendar.swifter.apply(lambda x: date_to_cols(x), axis=1)"
   ]
  },
  {
   "cell_type": "code",
   "execution_count": 17,
   "metadata": {},
   "outputs": [],
   "source": [
    "calendar = calendar.drop(['date'], axis=1)"
   ]
  },
  {
   "cell_type": "code",
   "execution_count": 18,
   "metadata": {},
   "outputs": [],
   "source": [
    "test_calendar = calendar.copy()\n",
    "test_calendar['price_per_listing'] = 0.0\n",
    "test_calendar = test_calendar.fillna(0)\n",
    "\n",
    "def apply_per_listing(df):\n",
    "    df.price_per_listing = MinMaxScaler().fit_transform(df.price.values.reshape(-1, 1))\n",
    "    return df\n",
    "test_calendar = test_calendar.groupby('listing_id').apply(lambda x: apply_per_listing(x))"
   ]
  },
  {
   "cell_type": "code",
   "execution_count": 21,
   "metadata": {},
   "outputs": [],
   "source": [
    "stats_calendar = calendar.price.describe()"
   ]
  },
  {
   "cell_type": "code",
   "execution_count": 29,
   "metadata": {},
   "outputs": [
    {
     "ename": "TypeError",
     "evalue": "'function' object is not iterable",
     "output_type": "error",
     "traceback": [
      "\u001b[1;31m---------------------------------------------------------------------------\u001b[0m",
      "\u001b[1;31mTypeError\u001b[0m                                 Traceback (most recent call last)",
      "\u001b[1;32m<ipython-input-29-819f5c9a3d69>\u001b[0m in \u001b[0;36m<module>\u001b[1;34m()\u001b[0m\n\u001b[1;32m----> 1\u001b[1;33m \u001b[0mtest_calendar\u001b[0m\u001b[1;33m.\u001b[0m\u001b[0mfilter\u001b[0m\u001b[1;33m(\u001b[0m\u001b[1;32mlambda\u001b[0m \u001b[0mx\u001b[0m\u001b[1;33m:\u001b[0m \u001b[0mx\u001b[0m\u001b[1;33m.\u001b[0m\u001b[0mprice\u001b[0m \u001b[1;33m>\u001b[0m \u001b[0mstats_calendar\u001b[0m\u001b[1;33m[\u001b[0m\u001b[1;34m'75%'\u001b[0m\u001b[1;33m]\u001b[0m\u001b[1;33m)\u001b[0m\u001b[1;33m.\u001b[0m\u001b[0mgroupby\u001b[0m\u001b[1;33m(\u001b[0m\u001b[1;34m'month'\u001b[0m\u001b[1;33m)\u001b[0m\u001b[1;33m\u001b[0m\u001b[0m\n\u001b[0m",
      "\u001b[1;32m~\\AppData\\Local\\conda\\conda\\envs\\Devel\\lib\\site-packages\\pandas\\core\\generic.py\u001b[0m in \u001b[0;36mfilter\u001b[1;34m(self, items, like, regex, axis)\u001b[0m\n\u001b[0;32m   3898\u001b[0m             \u001b[0mname\u001b[0m \u001b[1;33m=\u001b[0m \u001b[0mself\u001b[0m\u001b[1;33m.\u001b[0m\u001b[0m_get_axis_name\u001b[0m\u001b[1;33m(\u001b[0m\u001b[0maxis\u001b[0m\u001b[1;33m)\u001b[0m\u001b[1;33m\u001b[0m\u001b[0m\n\u001b[0;32m   3899\u001b[0m             return self.reindex(\n\u001b[1;32m-> 3900\u001b[1;33m                 **{name: [r for r in items if r in labels]})\n\u001b[0m\u001b[0;32m   3901\u001b[0m         \u001b[1;32melif\u001b[0m \u001b[0mlike\u001b[0m\u001b[1;33m:\u001b[0m\u001b[1;33m\u001b[0m\u001b[0m\n\u001b[0;32m   3902\u001b[0m             \u001b[1;32mdef\u001b[0m \u001b[0mf\u001b[0m\u001b[1;33m(\u001b[0m\u001b[0mx\u001b[0m\u001b[1;33m)\u001b[0m\u001b[1;33m:\u001b[0m\u001b[1;33m\u001b[0m\u001b[0m\n",
      "\u001b[1;31mTypeError\u001b[0m: 'function' object is not iterable"
     ]
    }
   ],
   "source": [
    "test_calendar.filter(lambda x: x.price > stats_calendar['75%']).groupby('month')"
   ]
  },
  {
   "cell_type": "code",
   "execution_count": null,
   "metadata": {},
   "outputs": [],
   "source": []
  },
  {
   "cell_type": "code",
   "execution_count": null,
   "metadata": {},
   "outputs": [],
   "source": []
  }
 ],
 "metadata": {
  "kernelspec": {
   "display_name": "Python 3",
   "language": "python",
   "name": "python3"
  },
  "language_info": {
   "codemirror_mode": {
    "name": "ipython",
    "version": 3
   },
   "file_extension": ".py",
   "mimetype": "text/x-python",
   "name": "python",
   "nbconvert_exporter": "python",
   "pygments_lexer": "ipython3",
   "version": "3.6.6"
  }
 },
 "nbformat": 4,
 "nbformat_minor": 2
}
